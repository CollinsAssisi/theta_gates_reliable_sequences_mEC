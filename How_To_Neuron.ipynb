{
 "cells": [
  {
   "cell_type": "markdown",
   "metadata": {},
   "source": [
    "# A Neuron \n",
    "\n",
    "First we will cd into the \"Neuron\" folder where the required header folders and the main files are situated "
   ]
  },
  {
   "cell_type": "code",
   "execution_count": 1,
   "metadata": {},
   "outputs": [
    {
     "name": "stdout",
     "output_type": "stream",
     "text": [
      "/media/arun/Data/arun_files/thesis_files/neru2019/theta_gates_reliable_sequences_mEC/Neuron\n"
     ]
    }
   ],
   "source": [
    "cd Neuron"
   ]
  },
  {
   "cell_type": "code",
   "execution_count": 2,
   "metadata": {},
   "outputs": [
    {
     "name": "stdout",
     "output_type": "stream",
     "text": [
      "\u001b[0m\u001b[01;34mbins\u001b[0m/  \u001b[01;34mconfigure_files\u001b[0m/  \u001b[01;34mmain_files\u001b[0m/  \u001b[01;34mscripts\u001b[0m/\r\n"
     ]
    }
   ],
   "source": [
    "ls"
   ]
  },
  {
   "cell_type": "markdown",
   "metadata": {},
   "source": [
    "Compile the files to generate the binaries\n"
   ]
  },
  {
   "cell_type": "markdown",
   "metadata": {},
   "source": [
    "## Generate the noise header file"
   ]
  },
  {
   "cell_type": "markdown",
   "metadata": {},
   "source": [
    "### run scripts/write_noise.py seed numberOfNeurons\n"
   ]
  },
  {
   "cell_type": "code",
   "execution_count": 19,
   "metadata": {},
   "outputs": [],
   "source": [
    "run scripts/write_noise.py 0 1"
   ]
  },
  {
   "cell_type": "markdown",
   "metadata": {},
   "source": [
    "### A noise.hpp file with the specified seed instantiating a random number generator is produced"
   ]
  },
  {
   "cell_type": "code",
   "execution_count": 22,
   "metadata": {},
   "outputs": [
    {
     "name": "stdout",
     "output_type": "stream",
     "text": [
      "#pragma once\r\n",
      "#include \"insilico/core/engine.hpp\"\r\n",
      "#include <cmath>\r\n",
      "#include<random>\r\n",
      "#include<vector>\r\n",
      "\r\n",
      "namespace insilico { namespace noise {\r\n",
      "\r\n",
      "std::mt19937_64 gen(0);\r\n",
      "std::normal_distribution<double> dist(0,1);\r\n",
      "std::vector<double> randomize(1);\r\n",
      "double inject(unsigned index)\r\n",
      " {\r\n",
      "\trandomize[index]= dist(gen);\r\n",
      "\treturn randomize[index];\r\n",
      "\r\n",
      "}\r\n",
      "} } // insilico\r\n"
     ]
    }
   ],
   "source": [
    "cat noise.hpp"
   ]
  },
  {
   "cell_type": "markdown",
   "metadata": {},
   "source": [
    "### Compile the header files with g++, compiler flags, etc"
   ]
  },
  {
   "cell_type": "code",
   "execution_count": 29,
   "metadata": {},
   "outputs": [
    {
     "data": {
      "text/plain": [
       "0"
      ]
     },
     "execution_count": 29,
     "metadata": {},
     "output_type": "execute_result"
    }
   ],
   "source": [
    "import os\n",
    "os.system(\"g++ -O3 -Ofast -std=c++11 -I../insilico-0.25/include -o bins/insilico_Neuron_0trial.out main_files/main_Neuron.cpp\")"
   ]
  },
  {
   "cell_type": "markdown",
   "metadata": {},
   "source": [
    "### Check that the insilico_Neuron_0trial.out is generted in the bins directory"
   ]
  },
  {
   "cell_type": "code",
   "execution_count": 28,
   "metadata": {},
   "outputs": [
    {
     "name": "stdout",
     "output_type": "stream",
     "text": [
      "\u001b[0m\u001b[01;32minsilico_Neuron_0trial.out\u001b[0m*\r\n"
     ]
    }
   ],
   "source": [
    "ls bins/"
   ]
  },
  {
   "cell_type": "markdown",
   "metadata": {},
   "source": [
    "### Generate the helper files with parameters for the neuron (Ion channel, applied current, etc)"
   ]
  },
  {
   "cell_type": "code",
   "execution_count": 94,
   "metadata": {},
   "outputs": [
    {
     "name": "stdout",
     "output_type": "stream",
     "text": [
      "configure_files/nsets_Neuron_-2.8i2i.isf\n",
      "configure_files/nsets_Neuron_-2.75i2i.isf\n",
      "configure_files/nsets_Neuron_-2.7i2i.isf\n",
      "configure_files/nsets_Neuron_-2.65i2i.isf\n",
      "configure_files/nsets_Neuron_-2.6i2i.isf\n",
      "5\n"
     ]
    }
   ],
   "source": [
    "run scripts/gen_nsets_Neuron.py"
   ]
  },
  {
   "cell_type": "markdown",
   "metadata": {},
   "source": [
    "### Time to run the simulation. We will store the result in the output file named \"output_Neuron.dat\" in the folder dir_output"
   ]
  },
  {
   "cell_type": "code",
   "execution_count": 95,
   "metadata": {},
   "outputs": [],
   "source": [
    "outputFN = \"dir_output/output_Neuron.dat\"\n",
    "nsetFN = \"configure_files/nsets_Neuron_-2.7i2i.isf\"\n",
    "dparams = dict()\n",
    "dparams['outputFN'] = outputFN\n",
    "dparams['nsetFN'] = nsetFN"
   ]
  },
  {
   "cell_type": "markdown",
   "metadata": {},
   "source": [
    "### Fllow the insilico convention for running a simulation \"bin -o outputFileName  -n nsetFileName\""
   ]
  },
  {
   "cell_type": "code",
   "execution_count": 96,
   "metadata": {},
   "outputs": [
    {
     "data": {
      "text/plain": [
       "0"
      ]
     },
     "execution_count": 96,
     "metadata": {},
     "output_type": "execute_result"
    }
   ],
   "source": [
    "os.system(\"./bins/insilico_Neuron_0trial.out -o {p[outputFN]} -n {p[nsetFN]}\".format(p=dparams))"
   ]
  },
  {
   "cell_type": "markdown",
   "metadata": {},
   "source": [
    "### Verify that the output is generated in the folder dir_output"
   ]
  },
  {
   "cell_type": "code",
   "execution_count": 97,
   "metadata": {},
   "outputs": [
    {
     "name": "stdout",
     "output_type": "stream",
     "text": [
      "output_Neuron_0.1i2i.dat  output_Neuron_0.3i2i.dat  output_Neuron_0.5i2i.dat\r\n",
      "output_Neuron_0.2i2i.dat  output_Neuron_0.4i2i.dat  output_Neuron.dat\r\n"
     ]
    }
   ],
   "source": [
    "ls dir_output"
   ]
  },
  {
   "cell_type": "markdown",
   "metadata": {},
   "source": [
    "### Analysing the output"
   ]
  },
  {
   "cell_type": "code",
   "execution_count": 98,
   "metadata": {},
   "outputs": [],
   "source": [
    "import matplotlib.pyplot as plt\n",
    "import numpy as np"
   ]
  },
  {
   "cell_type": "code",
   "execution_count": 99,
   "metadata": {},
   "outputs": [],
   "source": [
    "data = np.loadtxt(\"dir_output/output_Neuron.dat\",delimiter=',',comments='time')"
   ]
  },
  {
   "cell_type": "code",
   "execution_count": 100,
   "metadata": {},
   "outputs": [
    {
     "data": {
      "text/plain": [
       "(100000, 2)"
      ]
     },
     "execution_count": 100,
     "metadata": {},
     "output_type": "execute_result"
    }
   ],
   "source": [
    "data.shape"
   ]
  },
  {
   "cell_type": "code",
   "execution_count": 101,
   "metadata": {},
   "outputs": [
    {
     "data": {
      "text/plain": [
       "[<matplotlib.lines.Line2D at 0x7f1247a1e690>]"
      ]
     },
     "execution_count": 101,
     "metadata": {},
     "output_type": "execute_result"
    },
    {
     "data": {
      "image/png": "[encoded data removed]",
      "text/plain": [
       "<Figure size 432x288 with 1 Axes>"
      ]
     },
     "metadata": {
      "needs_background": "light"
     },
     "output_type": "display_data"
    }
   ],
   "source": [
    "plt.plot(data[:,0], data[:,1])"
   ]
  },
  {
   "cell_type": "code",
   "execution_count": 102,
   "metadata": {},
   "outputs": [
    {
     "data": {
      "text/plain": [
       "[<matplotlib.lines.Line2D at 0x7f12472c1b10>]"
      ]
     },
     "execution_count": 102,
     "metadata": {},
     "output_type": "execute_result"
    },
    {
     "data": {
      "image/png": "[encoded data removed]",
      "text/plain": [
       "<Figure size 432x288 with 1 Axes>"
      ]
     },
     "metadata": {
      "needs_background": "light"
     },
     "output_type": "display_data"
    }
   ],
   "source": [
    "plt.plot(data[20000:45000,0], data[20000:45000,1])"
   ]
  },
  {
   "cell_type": "markdown",
   "metadata": {},
   "source": [
    "### Automating the workflow (More or less)"
   ]
  },
  {
   "cell_type": "markdown",
   "metadata": {},
   "source": [
    "### Refactoring the code into a function\n"
   ]
  },
  {
   "cell_type": "code",
   "execution_count": 67,
   "metadata": {},
   "outputs": [],
   "source": [
    "def run_Once(d_params):\n",
    "    ### d_params is passed as an argument to this function\n",
    "    outputFN = \"dir_output/output_Neuron_{p[i2i]}i2i.dat\".format(p=d_params)\n",
    "    nsetFN = \"configure_files/nsets_Neuron_{p[i2i]}i2i.isf\".format(p=d_params)\n",
    "    dparams['outputFN'] = outputFN\n",
    "    dparams['nsetFN'] = nsetFN\n",
    "    os.system(\"./bins/insilico_Neuron_0trial.out -o {p[outputFN]} -n {p[nsetFN]} \".format(p=dparams))"
   ]
  },
  {
   "cell_type": "code",
   "execution_count": 103,
   "metadata": {},
   "outputs": [
    {
     "name": "stdout",
     "output_type": "stream",
     "text": [
      "5\n",
      "It took  1.4643149733543397  minutes to run the entire set of simulations!!\n"
     ]
    }
   ],
   "source": [
    "import time\n",
    "st_t = time.time()\n",
    "\n",
    "cnt = 0\n",
    "l_i2is = [-2.8,-2.75,-2.7,-2.65,-2.6]\n",
    "\n",
    "l_dparams = []\n",
    "\n",
    "for i2i in l_i2is:\n",
    "    l_dparams.append({'i2i':str(i2i)})\n",
    "    cnt += 1\n",
    "\n",
    "print(cnt)\n",
    "\n",
    "for d_params in l_dparams:\n",
    "    run_Once(d_params)\n",
    "end_t = time.time()\n",
    "print(\"It took \", (end_t - st_t )/60.0 ,\" minutes to run the entire set of simulations!!\")\n"
   ]
  },
  {
   "cell_type": "code",
   "execution_count": 105,
   "metadata": {},
   "outputs": [
    {
     "name": "stdout",
     "output_type": "stream",
     "text": [
      "dir_output/output_Neuron_-2.8i2i.dat\n",
      "dir_output/output_Neuron_-2.75i2i.dat\n",
      "dir_output/output_Neuron_-2.7i2i.dat\n",
      "dir_output/output_Neuron_-2.65i2i.dat\n",
      "dir_output/output_Neuron_-2.6i2i.dat\n"
     ]
    },
    {
     "data": {
      "image/png": "[encoded data removed]",
      "text/plain": [
       "<Figure size 432x288 with 5 Axes>"
      ]
     },
     "metadata": {
      "needs_background": "light"
     },
     "output_type": "display_data"
    }
   ],
   "source": [
    "fig,axs = plt.subplots(len(l_i2is),1)\n",
    "for ind,i2i in enumerate(l_i2is):\n",
    "    outputFN = \"dir_output/output_Neuron_{}i2i.dat\".format(str(i2i))\n",
    "    print(outputFN)\n",
    "    data = np.loadtxt(outputFN, delimiter=',', comments='time')\n",
    "    axs[ind].plot(data[20000:45000,0],data[20000:45000,1])\n"
   ]
  }
 ],
 "metadata": {
  "kernelspec": {
   "display_name": "Python 3",
   "language": "python",
   "name": "python3"
  },
  "language_info": {
   "codemirror_mode": {
    "name": "ipython",
    "version": 3
   },
   "file_extension": ".py",
   "mimetype": "text/x-python",
   "name": "python",
   "nbconvert_exporter": "python",
   "pygments_lexer": "ipython3",
   "version": "3.7.4"
  }
 },
 "nbformat": 4,
 "nbformat_minor": 2
}
